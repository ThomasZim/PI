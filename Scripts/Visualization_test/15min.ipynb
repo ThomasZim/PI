{
 "cells": [
  {
   "cell_type": "code",
   "execution_count": null,
   "metadata": {},
   "outputs": [],
   "source": [
    "import pandas as pd\n",
    "import numpy as np\n",
    "import matplotlib.pyplot as plt"
   ]
  },
  {
   "cell_type": "code",
   "execution_count": null,
   "metadata": {},
   "outputs": [],
   "source": [
    "#Read 3rd sheet of excel files\n",
    "df2015 = pd.read_excel('../../Data/EnergieUebersichtCH-2015.xls', sheet_name=2)\n",
    "df2016 = pd.read_excel('../../Data/EnergieUebersichtCH-2016.xls', sheet_name=2)\n",
    "df2017 = pd.read_excel('../../Data/EnergieUebersichtCH-2017.xls', sheet_name=2)\n",
    "df2018 = pd.read_excel('../../Data/EnergieUebersichtCH-2018.xls', sheet_name=2)\n",
    "df2019 = pd.read_excel('../../Data/EnergieUebersichtCH-2019.xls', sheet_name=2)\n",
    "df2020 = pd.read_excel('../../Data/EnergieUebersichtCH-2020.xlsx', sheet_name=2)\n",
    "df2021 = pd.read_excel('../../Data/EnergieUebersichtCH-2021.xlsx', sheet_name=3)\n",
    "df2022 = pd.read_excel('../../Data/EnergieUebersichtCH-2022.xlsx', sheet_name=3)\n",
    "df2023 = pd.read_excel('../../Data/EnergieUebersichtCH-2023.xlsx', sheet_name=3)"
   ]
  },
  {
   "cell_type": "code",
   "execution_count": null,
   "metadata": {},
   "outputs": [],
   "source": [
    "# Put all the dataframes in a list\n",
    "df_list = [df2015, df2016, df2017, df2018, df2019, df2020, df2021, df2022, df2023]\n",
    "\n",
    "# Print the number of columns of each dataframe\n",
    "for df in df_list:\n",
    "    print(df.shape[1])"
   ]
  },
  {
   "cell_type": "code",
   "execution_count": null,
   "metadata": {},
   "outputs": [],
   "source": [
    "# Concatenate all the dataframes\n",
    "dffull = pd.concat(df_list, axis=0, ignore_index=True)\n",
    "print(dffull.shape)\n",
    "dffull.head()"
   ]
  },
  {
   "cell_type": "code",
   "execution_count": null,
   "metadata": {},
   "outputs": [],
   "source": [
    "df_prod = pd.read_csv('../../Data/15min_prod.csv', sep=',')\n",
    "#Remove the first row (kwh)\n",
    "df_prod = df_prod.iloc[1:]\n",
    "\n",
    "df_cons = pd.read_csv('../../Data/15min_cons.csv', sep=',')\n",
    "#Remove the first row (kwh)\n",
    "df_cons = df_cons.iloc[1:]\n",
    "\n",
    "df_prod.head()"
   ]
  },
  {
   "cell_type": "code",
   "execution_count": null,
   "metadata": {},
   "outputs": [],
   "source": [
    "#Find rows where first column is 'Zeitstempel' and remove them\n",
    "df_prod = df_prod.drop(df_prod[df_prod['Date'].str.contains('Zeitstempel')].index)\n",
    "df_cons = df_cons.drop(df_cons[df_cons['Date'].str.contains('Zeitstempel')].index)\n",
    "\n",
    "#Reset index\n",
    "df_prod = df_prod.reset_index(drop=True)\n",
    "df_cons = df_cons.reset_index(drop=True)\n"
   ]
  },
  {
   "cell_type": "code",
   "execution_count": null,
   "metadata": {},
   "outputs": [],
   "source": [
    "#Convert all the columns but the first to float\n",
    "df_prod.iloc[:,1:] = df_prod.iloc[:,1:].astype(float)\n",
    "\n",
    "#Convert all the columns but the first to float\n",
    "df_cons.iloc[:,1:] = df_cons.iloc[:,1:].astype(float)"
   ]
  },
  {
   "cell_type": "code",
   "execution_count": null,
   "metadata": {},
   "outputs": [],
   "source": [
    "#If 'Date' column does not follow the format 'MM.DD.YYYY HH:MM', transform it from 'YYYY-MM-DD HH:MM:SS' to 'DD.MM.YYYY HH:MM'\n",
    "for i in range(len(df_cons)):\n",
    "    if len(df_cons['Date'][i]) > 16:\n",
    "        df_cons['Date'][i] = df_cons['Date'][i][8:10] + '.' + df_cons['Date'][i][5:7] + '.' + df_cons['Date'][i][0:4] + ' ' + df_cons['Date'][i][11:16]\n",
    "df_cons.head()\n",
    "\n",
    "#If 'Date' column does not follow the format 'MM.DD.YYYY HH:MM', transform it from 'YYYY-MM-DD HH:MM:SS' to 'DD.MM.YYYY HH:MM'\n",
    "for i in range(len(df_prod)):\n",
    "    if len(df_prod['Date'][i]) > 16:\n",
    "        df_prod['Date'][i] = df_prod['Date'][i][8:10] + '.' + df_prod['Date'][i][5:7] + '.' + df_prod['Date'][i][0:4] + ' ' + df_prod['Date'][i][11:16]\n",
    "df_prod.head()"
   ]
  },
  {
   "cell_type": "code",
   "execution_count": null,
   "metadata": {},
   "outputs": [],
   "source": [
    "df_cons.head()"
   ]
  },
  {
   "cell_type": "code",
   "execution_count": null,
   "metadata": {},
   "outputs": [],
   "source": [
    "#Convert the date column to datetime\n",
    "print(df_cons.columns)\n",
    "df_cons['Date'] = pd.to_datetime(df_cons['Date'], format='%d.%m.%Y %H:%M')\n",
    "df_cons.head()\n",
    "\n",
    "#Convert the date column to datetime\n",
    "print(df_prod.columns)\n",
    "df_prod['Date'] = pd.to_datetime(df_prod['Date'], format='%d.%m.%Y %H:%M')"
   ]
  },
  {
   "cell_type": "code",
   "execution_count": null,
   "metadata": {},
   "outputs": [],
   "source": [
    "#Resample the data to hourly\n",
    "df_cons = df_cons.resample('H', on='Date').sum()\n",
    "df_cons.head()\n",
    "\n",
    "#Resample the data to hourly\n",
    "df_prod = df_prod.resample('H', on='Date').sum()\n",
    "df_prod.head()"
   ]
  },
  {
   "cell_type": "code",
   "execution_count": null,
   "metadata": {},
   "outputs": [],
   "source": [
    "df_cons = df_cons.reset_index()\n",
    "df_cons.head()\n",
    "\n",
    "df_prod = df_prod.reset_index()\n",
    "df_prod.head()"
   ]
  },
  {
   "cell_type": "code",
   "execution_count": null,
   "metadata": {},
   "outputs": [],
   "source": [
    "df_cons.head()"
   ]
  },
  {
   "cell_type": "code",
   "execution_count": null,
   "metadata": {},
   "outputs": [],
   "source": [
    "df_testt = {}\n",
    "df_testt[0] = pd.DataFrame()\n",
    "df_testt[0]['Production'] = df_prod.iloc[:,1]\n",
    "\n",
    "df_testt[0].head()"
   ]
  },
  {
   "cell_type": "code",
   "execution_count": null,
   "metadata": {},
   "outputs": [],
   "source": [
    "df_temp = {}\n",
    "\n",
    "for i in range (1,19):\n",
    "    df_temp[i-1] = pd.DataFrame()\n",
    "    df_temp[i-1]['Date'] = df_prod.iloc[:,0] \n",
    "    df_temp[i-1]['Production'] = df_prod.iloc[:,i] \n",
    "    df_temp[i-1]['Consumption'] = df_cons.iloc[:,i]\n",
    "    df_temp[i-1]['Canton'] = df_cons.columns[i].split()[-1]\n",
    "\n",
    "df_temp[1].head()"
   ]
  },
  {
   "cell_type": "code",
   "execution_count": null,
   "metadata": {},
   "outputs": [],
   "source": [
    "#Concate all the dataframes vertically\n",
    "df_concat = pd.concat(df_temp, axis=0, ignore_index=True)\n",
    "df_concat.head()"
   ]
  },
  {
   "cell_type": "code",
   "execution_count": null,
   "metadata": {},
   "outputs": [],
   "source": [
    "#Sort the dataframe by date\n",
    "df_concat = df_concat.sort_values(by=['Date'])\n",
    "\n",
    "#Reset index\n",
    "df_concat = df_concat.reset_index(drop=True)\n",
    "\n",
    "df_concat.head()"
   ]
  },
  {
   "cell_type": "code",
   "execution_count": null,
   "metadata": {},
   "outputs": [],
   "source": [
    "df_concat.to_csv('../../Data/1hour_concat.csv', index=False)"
   ]
  },
  {
   "cell_type": "code",
   "execution_count": null,
   "metadata": {},
   "outputs": [],
   "source": [
    "#Plot the consumption of all cantons using plotly Canton as color\n",
    "import plotly.express as px\n",
    "fig = px.line(df_concat, x=\"Date\", y=\"Consumption\", color='Canton')\n",
    "fig.show()"
   ]
  },
  {
   "cell_type": "code",
   "execution_count": null,
   "metadata": {},
   "outputs": [],
   "source": [
    "fig = px.line(df_concat, x=\"Date\", y=\"Production\", color='Canton')\n",
    "fig.show()"
   ]
  }
 ],
 "metadata": {
  "kernelspec": {
   "display_name": "base",
   "language": "python",
   "name": "python3"
  },
  "language_info": {
   "codemirror_mode": {
    "name": "ipython",
    "version": 3
   },
   "file_extension": ".py",
   "mimetype": "text/x-python",
   "name": "python",
   "nbconvert_exporter": "python",
   "pygments_lexer": "ipython3",
   "version": "3.9.10"
  },
  "orig_nbformat": 4
 },
 "nbformat": 4,
 "nbformat_minor": 2
}
